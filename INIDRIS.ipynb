{
  "nbformat": 4,
  "nbformat_minor": 5,
  "metadata": {
    "kernelspec": {
      "display_name": "Python 3",
      "language": "python",
      "name": "python3"
    },
    "language_info": {
      "codemirror_mode": {
        "name": "ipython",
        "version": 3
      },
      "file_extension": ".py",
      "mimetype": "text/x-python",
      "name": "python",
      "nbconvert_exporter": "python",
      "pygments_lexer": "ipython3",
      "version": "3.7.10"
    },
    "colab": {
      "name": "INIDRIS.ipynb",
      "provenance": []
    }
  },
  "cells": [
    {
      "cell_type": "code",
      "metadata": {
        "id": "a5dee1f2"
      },
      "source": [
        "import re\n",
        "import nltk\n",
        "import pandas as pd"
      ],
      "id": "a5dee1f2",
      "execution_count": 1,
      "outputs": []
    },
    {
      "cell_type": "code",
      "metadata": {
        "colab": {
          "base_uri": "https://localhost:8080/"
        },
        "id": "3DR0AoO9hVob",
        "outputId": "1c2f9446-c73b-458d-88c2-d27de05c2c72"
      },
      "source": [
        "from google.colab import drive\n",
        "drive.mount('/content/drive')"
      ],
      "id": "3DR0AoO9hVob",
      "execution_count": 2,
      "outputs": [
        {
          "output_type": "stream",
          "text": [
            "Mounted at /content/drive\n"
          ],
          "name": "stdout"
        }
      ]
    },
    {
      "cell_type": "code",
      "metadata": {
        "colab": {
          "base_uri": "https://localhost:8080/"
        },
        "id": "EFtCAdmYi2I3",
        "outputId": "5a9ef43e-2d0d-4060-f98f-1795a2ae1a27"
      },
      "source": [
        "cd '/content/drive/My Drive/Colab Notebooks/data_skripsi'"
      ],
      "id": "EFtCAdmYi2I3",
      "execution_count": 3,
      "outputs": [
        {
          "output_type": "stream",
          "text": [
            "/content/drive/My Drive/Colab Notebooks/data_skripsi\n"
          ],
          "name": "stdout"
        }
      ]
    },
    {
      "cell_type": "code",
      "metadata": {
        "colab": {
          "base_uri": "https://localhost:8080/"
        },
        "id": "lYraVHtCi3Sg",
        "outputId": "6faf95b9-e1a0-42ed-9211-961a96ad9901"
      },
      "source": [
        "!ls"
      ],
      "id": "lYraVHtCi3Sg",
      "execution_count": 4,
      "outputs": [
        {
          "output_type": "stream",
          "text": [
            "katadasarbahasaindonesia.txt  kata_dasar_db.txt  stopwords2.txt  stopwords.txt\n"
          ],
          "name": "stdout"
        }
      ]
    },
    {
      "cell_type": "code",
      "metadata": {
        "colab": {
          "base_uri": "https://localhost:8080/"
        },
        "id": "e6d3d76a",
        "outputId": "84940683-5978-46c9-c8ea-0c0ee42d2c44"
      },
      "source": [
        "stopword = open(\"stopwords2.txt\", 'r').read() \n",
        "stopword = stopword.split(\"\\n\")\n",
        "stopword[:5]"
      ],
      "id": "e6d3d76a",
      "execution_count": 5,
      "outputs": [
        {
          "output_type": "execute_result",
          "data": {
            "text/plain": [
              "['ada', 'adalah', 'adanya', 'adapun', 'agak']"
            ]
          },
          "metadata": {
            "tags": []
          },
          "execution_count": 5
        }
      ]
    },
    {
      "cell_type": "code",
      "metadata": {
        "colab": {
          "base_uri": "https://localhost:8080/"
        },
        "id": "LMgDCodLrH2u",
        "outputId": "8e6cd84a-1ad7-4bf3-d07b-6b7f9f321822"
      },
      "source": [
        "kata_dasar = open(\"katadasarbahasaindonesia.txt\", 'r').read() \n",
        "kata_dasar = kata_dasar.split(\" \")\n",
        "\n",
        "kamus = []\n",
        "for i in kata_dasar:\n",
        "  kata = \"{}\".format(i)\n",
        "  kata = kata.replace(\"(n)\", \"\")\n",
        "  kata = kata.replace(\"(adj)\", \"\")\n",
        "  kata = kata.replace(\"(adv)\", \"\")\n",
        "  kata = kata.replace(\"(num)\", \"\")\n",
        "  kata = kata.replace(\"(pron)\", \"\")\n",
        "  kata = kata.replace(\"(l)\", \"\")\n",
        "  kata = kata.replace(\"(v)\", \"\")\n",
        "  kata = kata.replace(\"(pre)\", \"\")\n",
        "  kata = kata.replace(\"(i)\", \"\")\n",
        "  kata = kata.replace(\"(k)\", \"\")\n",
        "  kata = kata.replace(\"\\n\", \"\")\n",
        "  kamus.append(kata)\n",
        "kamus[:5]"
      ],
      "id": "LMgDCodLrH2u",
      "execution_count": 6,
      "outputs": [
        {
          "output_type": "execute_result",
          "data": {
            "text/plain": [
              "['A', 'ab', 'aba', 'aba-aba', 'abad']"
            ]
          },
          "metadata": {
            "tags": []
          },
          "execution_count": 6
        }
      ]
    },
    {
      "cell_type": "code",
      "metadata": {
        "id": "d112f189"
      },
      "source": [
        "# kata_dasar = open(\"kata_dasar_db.txt\", 'r').read()\n",
        "# kata_dasar = kata_dasar.split(\"\\n\")\n",
        "\n",
        "# kamus = []\n",
        "# for i in kata_dasar:\n",
        "#     kata = \"{}\".format(i)\n",
        "#     kata = kata.replace(\"(Nomina)\", \"\")\n",
        "#     kata = kata.replace(\"(Adjektiva)\", \"\")\n",
        "#     kata = kata.replace(\"(Adverbia)\", \"\")\n",
        "#     kata = kata.replace(\"(Numeralia)\", \"\")\n",
        "#     kata = kata.replace(\"(Pronomina)\", \"\")\n",
        "#     kata = kata.replace(\"(Verba)\", \"\")\n",
        "#     kata = kata.replace(\"(Preposisi)\", \"\")\n",
        "#     kata = kata.replace(\"(Interjeksi)\", \"\")\n",
        "#     kata = kata.replace(\"(Konjungsi)\", \"\")\n",
        "#     kata = kata.replace(\"(Lain-lain)\", \"\")\n",
        "#     kata = kata.replace(\"\\n\", \"\")\n",
        "#     kata = kata.rstrip()\n",
        "#     kamus.append(kata)\n",
        "# kamus[:5]"
      ],
      "id": "d112f189",
      "execution_count": 7,
      "outputs": []
    },
    {
      "cell_type": "code",
      "metadata": {
        "id": "bcc7850b"
      },
      "source": [
        "# fungsi untuk mengecek kata dalam tabel dictionary\n",
        "def cekKamus_idris_modif(kata):\n",
        "    if kata in kamus:\n",
        "        return kata\n",
        "    else:\n",
        "        status = 0\n",
        "    return status"
      ],
      "id": "bcc7850b",
      "execution_count": 8,
      "outputs": []
    },
    {
      "cell_type": "code",
      "metadata": {
        "id": "07d1e718"
      },
      "source": [
        "# Hapus Derivation Prefix (\"di-\", \"ke-\", \"se-\", \"te-\", \"be-\", \"me-\", atau \"pe-\")\n",
        "def del_derivation_prefix_idris_modif(kata):\n",
        "    kataAsal = kata\n",
        "    # /* —— Tentukan Tipe Awalan ————*/\n",
        "    if (re.search(r\"^(di|[ks]e)\", kata, re.IGNORECASE)):\n",
        "        _kata = re.sub(r\"^(di|[ks]e)\", '', kata, re.IGNORECASE)\n",
        "        if (cekKamus_idris_modif(_kata)):\n",
        "            return _kata\n",
        "\n",
        "        _kata_ = del_derivation_suffixes_idris_modif(_kata)\n",
        "        if (cekKamus_idris_modif(_kata_)):\n",
        "            return _kata_\n",
        "\n",
        "        if (re.search(r\"^(diper)\", kata, re.IGNORECASE)):\n",
        "            _kata = re.sub(r\"^(diper)\", '', kata, re.IGNORECASE)\n",
        "            _kata_ = del_derivation_suffixes_idris_modif(_kata)\n",
        "            if (cekKamus_idris_modif(_kata_)):\n",
        "                return _kata_\n",
        "\n",
        "        if (re.search(r\"^(ke[bt]er)\", kata, re.IGNORECASE)):\n",
        "            _kata = re.sub(r\"^(ke[bt]er)\", '', kata, re.IGNORECASE)\n",
        "            _kata_ = del_derivation_suffixes_idris_modif(_kata)\n",
        "            if (cekKamus_idris_modif(_kata_)):\n",
        "                return _kata_\n",
        "\n",
        "    if (re.search(r\"^([bt]e)\", kata, re.IGNORECASE)):\n",
        "        _kata = re.sub(r\"^([bt]e)\", '', kata, re.IGNORECASE)\n",
        "        if (cekKamus_idris_modif(_kata)):\n",
        "            return _kata\n",
        "\n",
        "        _kata = re.sub(r\"^([bt]e[lr])\", '', kata, re.IGNORECASE)\n",
        "        if (cekKamus_idris_modif(_kata)):\n",
        "            return _kata\n",
        "\n",
        "        _kata_ = del_derivation_suffixes_idris_modif(_kata)\n",
        "        if (cekKamus_idris_modif(_kata_)):\n",
        "            return _kata\n",
        "\n",
        "    if (re.search(r\"^([mp]e)\", kata, re.IGNORECASE)):\n",
        "        _kata = re.sub(r\"^([mp]e)\", '', kata)\n",
        "        if (cekKamus_idris_modif(_kata)):\n",
        "            return _kata\n",
        "        _kata_ = del_derivation_suffixes_idris_modif(_kata)\n",
        "        if (cekKamus_idris_modif(_kata_)):\n",
        "            return _kata_\n",
        "\n",
        "        if (re.search(r\"^(memper)\", kata, re.IGNORECASE)):\n",
        "            _kata = re.sub(r\"^(memper)\", '', kata, re.IGNORECASE)\n",
        "            if (cekKamus_idris_modif(_kata)):\n",
        "                return _kata\n",
        "\n",
        "            _kata_ = del_derivation_suffixes_idris_modif(_kata)\n",
        "            if (cekKamus_idris_modif(_kata_)):\n",
        "                return _kata_\n",
        "\n",
        "        if (re.search(r\"^([mp]eng)\", kata, re.IGNORECASE)):\n",
        "            _kata = re.sub(r\"^([mp]eng)\", '', kata, re.IGNORECASE)\n",
        "            if (cekKamus_idris_modif(_kata)):\n",
        "                return _kata\n",
        "\n",
        "            _kata_ = del_derivation_suffixes_idris_modif(_kata)\n",
        "            if (cekKamus_idris_modif(_kata_)):\n",
        "                return _kata_\n",
        "\n",
        "            _kata = re.sub(r\"^([mp]eng)\", 'k', kata, re.IGNORECASE)\n",
        "            if (cekKamus_idris_modif(_kata)):\n",
        "                return _kata\n",
        "\n",
        "            _kata_ = del_derivation_suffixes_idris_modif(_kata)\n",
        "            if (cekKamus_idris_modif(_kata_)):\n",
        "                return _kata_\n",
        "\n",
        "        if (re.search(r\"^([mp]eny)\", kata, re.IGNORECASE)):\n",
        "            _kata = re.sub(r\"^([mp]eny)\", 's', kata, re.IGNORECASE)\n",
        "            if (cekKamus_idris_modif(_kata)):\n",
        "                return _kata\n",
        "            _kata_ = del_derivation_suffixes_idris_modif(_kata)\n",
        "            if (cekKamus_idris_modif(_kata_)):\n",
        "                return _kata_\n",
        "\n",
        "        if (re.search(r\"^([mp]e[lr])\", kata, re.IGNORECASE)):\n",
        "            _kata = re.sub(r\"^([mp]e[lr])\", '', kata, re.IGNORECASE)\n",
        "            if (cekKamus_idris_modif(_kata)):\n",
        "                return _kata\n",
        "            _kata_ = del_derivation_suffixes_idris_modif(_kata)\n",
        "            if (cekKamus_idris_modif(_kata_)):\n",
        "                return _kata_\n",
        "\n",
        "        if (re.search(r\"^([mp]en)\", kata, re.IGNORECASE)):\n",
        "            _kata = re.sub(r\"^([mp]en)\", 't', kata, re.IGNORECASE)\n",
        "            if (cekKamus_idris_modif(_kata)):\n",
        "                return _kata\n",
        "            _kata_ = del_derivation_suffixes_idris_modif(_kata)\n",
        "            if (cekKamus_idris_modif(_kata_)):\n",
        "                return _kata_\n",
        "            _kata = re.sub(r\"^([mp]en)\", '', kata, re.IGNORECASE)\n",
        "            if (cekKamus_idris_modif(_kata)):\n",
        "                return _kata\n",
        "            _kata_ = del_derivation_suffixes_idris_modif(_kata)\n",
        "            if (cekKamus_idris_modif(_kata_)):\n",
        "                return _kata_\n",
        "\n",
        "        if (re.search(r\"^([mp]em)\", kata, re.IGNORECASE)):\n",
        "            _kata = re.sub(r\"^([mp]em)\", 'p', kata, re.IGNORECASE)\n",
        "            if (cekKamus_idris_modif(_kata)):\n",
        "                return _kata\n",
        "            _kata_ = del_derivation_suffixes_idris_modif(_kata)\n",
        "            if (cekKamus_idris_modif(_kata_)):\n",
        "                return _kata_\n",
        "            _kata = re.sub(r\"^([mp]em)\", '', kata, re.IGNORECASE)\n",
        "            if (cekKamus_idris_modif(_kata)):\n",
        "                return _kata\n",
        "            _kata_ = del_derivation_suffixes_idris_modif(_kata)\n",
        "            if (cekKamus_idris_modif(_kata_)):\n",
        "                return _kata_\n",
        "\n",
        "    return kataAsal"
      ],
      "id": "07d1e718",
      "execution_count": 9,
      "outputs": []
    },
    {
      "cell_type": "code",
      "metadata": {
        "id": "ebca8f74"
      },
      "source": [
        "# Cek Prefix Disallowed Sufixes (Kombinasi Awalan dan Akhiran yang tidak diizinkan)\n",
        "def cek_prefix_disallowed_sufiks_idris(kata):\n",
        "    kataAsal = kata\n",
        "    # r\"^(ber)[[:alpha:]](lah|an)$\"\n",
        "    if (re.search(r\"^(ber)[^\\W\\d_](lah|an)$\", kata, re.IGNORECASE)):\n",
        "        _kata = re.sub(r\"^(ber)\", '', kata, re.IGNORECASE)\n",
        "        return _kata\n",
        "    # ^(men|di|pe|ter)[[:alpha:]](i)\n",
        "    if (re.search(r\"^(men|di|pe|ter)[^\\W\\d_](i)$\", kata, re.IGNORECASE)):\n",
        "        _kata = re.sub(r\"^(men|di|pe|ter)\", '', kata, re.IGNORECASE)\n",
        "        return _kata\n",
        "    return kataAsal"
      ],
      "id": "ebca8f74",
      "execution_count": 10,
      "outputs": []
    },
    {
      "cell_type": "code",
      "metadata": {
        "id": "49228a96"
      },
      "source": [
        "def del_inflection_suffixes_idris_modif(kata):\n",
        "    kataAsal = kata\n",
        "\n",
        "    if (re.search(r\"([km]u|nya|[kl]ah|pun)$\", kata, re.IGNORECASE)):\n",
        "        _kata = re.sub(r\"([km]u|nya|[kl]ah|pun)$\", '', kata)\n",
        "        return _kata\n",
        "    return kataAsal"
      ],
      "id": "49228a96",
      "execution_count": 11,
      "outputs": []
    },
    {
      "cell_type": "code",
      "metadata": {
        "id": "c3a7cb8a"
      },
      "source": [
        "def del_derivation_suffixes_idris_modif(kata):\n",
        "    kataAsal = kata\n",
        "\n",
        "    if (re.search(r\"(i|an)$\", kata)):\n",
        "        _kata = re.sub(r\"(i|an)$\", '', kata)\n",
        "        if (cekKamus_idris_modif(_kata)):\n",
        "            return _kata\n",
        "        elif (re.search(r\"(kan)$\", kata)):\n",
        "            _kata = re.sub(r\"(kan)$\", '', kata)\n",
        "            if (cekKamus_idris_modif(_kata)):\n",
        "                return _kata\n",
        "    # /*– Jika Tidak ditemukan di kamus –*/\n",
        "    return kataAsal"
      ],
      "id": "c3a7cb8a",
      "execution_count": 12,
      "outputs": []
    },
    {
      "cell_type": "code",
      "metadata": {
        "id": "d872ef36"
      },
      "source": [
        "# fungsi pencarian akar kata\n",
        "def stemming_idris_modif(kata):\n",
        "    kataAsal = kata\n",
        "    # print(\"1\"+str(kata))\n",
        "    if (cekKamus_idris_modif(kata) != 0):  # cek kamus\n",
        "        # Jika Ada maka kata tersebut adalah kata dasar\n",
        "        return kata\n",
        "    else:  # jika tidak ada dalam kamus maka dilakukan stemming\n",
        "        kata = del_derivation_prefix_idris_modif(kata)\n",
        "        if (cekKamus_idris_modif(kata)):\n",
        "            return kata\n",
        "\n",
        "        kata = del_inflection_suffixes_idris_modif(kata)\n",
        "        if (cekKamus_idris_modif(kata)):\n",
        "            return kata\n",
        "\n",
        "        kata = del_derivation_suffixes_idris_modif(kata)\n",
        "        if (cekKamus_idris_modif(kata)):\n",
        "            return kata\n",
        "        else:\n",
        "            return kataAsal+\" \"+\"(Kata Salah)\""
      ],
      "id": "d872ef36",
      "execution_count": 13,
      "outputs": []
    },
    {
      "cell_type": "code",
      "metadata": {
        "scrolled": false,
        "colab": {
          "base_uri": "https://localhost:8080/"
        },
        "id": "d56d8804",
        "outputId": "694a7a18-7234-49d4-bd03-cee69536db97"
      },
      "source": [
        "Teks = \"Saat aku terbangun, bagian ranjang sebelahku ternyata dingin. Jemariku terulur, mencari kehangatan Prim tapi hanya menemukan kain kanvas kasar yang menutupi kasur. Dia pasti mengalami mimpi buruk dan naik ke ranjang ibu kami. Tentu saja, dia pasti mimpi buruk. Hari ini hari pemungutan. Aku bertumpu pada sikuku. Ada cukup cahaya di kamar tidur sehingga aku bisa melihat mereka. Adik perempuanku, Prim, bergelung menyamping, menyelusup menempel pada tubuh ibuku, pipi mereka bersentuhan. Dalam tidurnya, ibuku tampak lebih muda, masih kelihatan capek tapi tidak tampak kelelahan setengah mati. Wajah Prim sesegar tetesan hujan, semanis bunga primrose, seperti namanya. Ibuku dulu juga sangat cantik. Begitulah yang mereka ceritakan. Duduk di lutut Prim, menjaganya, adalah kucing paling jelek di dunia. Hidungnya pesek, setengah dari satu telinganya hilang, warna matanya seperti ketela busuk. Prim menamainya Buttercup, berkeras menyatakan bahwa warna bulunya yang berwarna kuning lumpur mirip seperti warna bunga yang cerah. Kucing itu membenciku. Atau paling tidak dia tidak percaya padaku. Meskipun sudah bertahun-tahun berlalu, kurasa dia masih ingat bagaimana aku berusaha menenggelamkannya di dalam ember ketika Prim membawa pulang. Kucing kudisan, dengan perut penuh cacing dan digerogoti kutu. Hal terakhir yang kubutuhkan adalah mahkluk lain yang harus kuberi makan. Tapi Prim memohon dengan amat sangat, bahkan sampai menangis, sehingga aku harus mengizinkan kucing itu tinggal. Hasilnya ternyata lumayan. Ibuku berhasil menyingkirkan kuman dari tubuhnya dan kucing itu pandai menangkap tikus. Bahkan kadang-kadang bisa menangkap tikus-tikus besar. Kadang-kadang sehabis berburu, kuberikan isi perut binatang buruanku Buttercup. Dia sudah tidak lagi mendesis marah setiap kali melihatku. Isi perut binatang. Tidak ada desisan. Inilah\"\n",
        "print(Teks)"
      ],
      "id": "d56d8804",
      "execution_count": 14,
      "outputs": [
        {
          "output_type": "stream",
          "text": [
            "Saat aku terbangun, bagian ranjang sebelahku ternyata dingin. Jemariku terulur, mencari kehangatan Prim tapi hanya menemukan kain kanvas kasar yang menutupi kasur. Dia pasti mengalami mimpi buruk dan naik ke ranjang ibu kami. Tentu saja, dia pasti mimpi buruk. Hari ini hari pemungutan. Aku bertumpu pada sikuku. Ada cukup cahaya di kamar tidur sehingga aku bisa melihat mereka. Adik perempuanku, Prim, bergelung menyamping, menyelusup menempel pada tubuh ibuku, pipi mereka bersentuhan. Dalam tidurnya, ibuku tampak lebih muda, masih kelihatan capek tapi tidak tampak kelelahan setengah mati. Wajah Prim sesegar tetesan hujan, semanis bunga primrose, seperti namanya. Ibuku dulu juga sangat cantik. Begitulah yang mereka ceritakan. Duduk di lutut Prim, menjaganya, adalah kucing paling jelek di dunia. Hidungnya pesek, setengah dari satu telinganya hilang, warna matanya seperti ketela busuk. Prim menamainya Buttercup, berkeras menyatakan bahwa warna bulunya yang berwarna kuning lumpur mirip seperti warna bunga yang cerah. Kucing itu membenciku. Atau paling tidak dia tidak percaya padaku. Meskipun sudah bertahun-tahun berlalu, kurasa dia masih ingat bagaimana aku berusaha menenggelamkannya di dalam ember ketika Prim membawa pulang. Kucing kudisan, dengan perut penuh cacing dan digerogoti kutu. Hal terakhir yang kubutuhkan adalah mahkluk lain yang harus kuberi makan. Tapi Prim memohon dengan amat sangat, bahkan sampai menangis, sehingga aku harus mengizinkan kucing itu tinggal. Hasilnya ternyata lumayan. Ibuku berhasil menyingkirkan kuman dari tubuhnya dan kucing itu pandai menangkap tikus. Bahkan kadang-kadang bisa menangkap tikus-tikus besar. Kadang-kadang sehabis berburu, kuberikan isi perut binatang buruanku Buttercup. Dia sudah tidak lagi mendesis marah setiap kali melihatku. Isi perut binatang. Tidak ada desisan. Inilah\n"
          ],
          "name": "stdout"
        }
      ]
    },
    {
      "cell_type": "markdown",
      "metadata": {
        "id": "f5092b6b"
      },
      "source": [
        "## CASE FOLDING"
      ],
      "id": "f5092b6b"
    },
    {
      "cell_type": "code",
      "metadata": {
        "scrolled": false,
        "colab": {
          "base_uri": "https://localhost:8080/"
        },
        "id": "81c75553",
        "outputId": "76fb9b43-b6eb-4759-f7e9-f2f7677f0c69"
      },
      "source": [
        "#Case_folding = Teks.lower()\n",
        "#print(Case_folding)\n",
        "def Case_folding(casefold):\n",
        "    casefold = casefold.lower()\n",
        "    # Remove angka termasuk angka yang berada dalam string\n",
        "    # Remove non ASCII chars\n",
        "    casefold = re.sub(r'[^\\x00-\\x7f]', r'', casefold)\n",
        "    casefold = re.sub(r'(\\\\u[0-9A-Fa-f]+)', r'', casefold)\n",
        "    casefold = re.sub(r\"[^A-Za-z0-9^,!.\\/'+-=]\", \" \", casefold)\n",
        "    casefold = re.sub(r'\\\\u\\w\\w\\w\\w', '', casefold)\n",
        "    # Remove link web\n",
        "    casefold = re.sub(r'http\\S+', '', casefold)\n",
        "    # Remove @username\n",
        "    casefold = re.sub('@[^\\s]+', '', casefold)\n",
        "    # Remove #tagger\n",
        "    casefold = re.sub(r'#([^\\s]+)', '', casefold)\n",
        "    # Remove simbol, angka dan karakter aneh\n",
        "    casefold = re.sub(r\"[.,:;+!\\-_<^/=?\\\"'\\(\\)\\d\\*]\", \" \", casefold)\n",
        "    return casefold\n",
        "   \n",
        "\n",
        "\n",
        "Kata = Case_folding(Teks)\n",
        "print (Kata)\n",
        "#Case_folding = re.sub(r\"\\d+\", \"\", Teks)\n",
        "#print(Case_folding)"
      ],
      "id": "81c75553",
      "execution_count": 15,
      "outputs": [
        {
          "output_type": "stream",
          "text": [
            "saat aku terbangun  bagian ranjang sebelahku ternyata dingin  jemariku terulur  mencari kehangatan prim tapi hanya menemukan kain kanvas kasar yang menutupi kasur  dia pasti mengalami mimpi buruk dan naik ke ranjang ibu kami  tentu saja  dia pasti mimpi buruk  hari ini hari pemungutan  aku bertumpu pada sikuku  ada cukup cahaya di kamar tidur sehingga aku bisa melihat mereka  adik perempuanku  prim  bergelung menyamping  menyelusup menempel pada tubuh ibuku  pipi mereka bersentuhan  dalam tidurnya  ibuku tampak lebih muda  masih kelihatan capek tapi tidak tampak kelelahan setengah mati  wajah prim sesegar tetesan hujan  semanis bunga primrose  seperti namanya  ibuku dulu juga sangat cantik  begitulah yang mereka ceritakan  duduk di lutut prim  menjaganya  adalah kucing paling jelek di dunia  hidungnya pesek  setengah dari satu telinganya hilang  warna matanya seperti ketela busuk  prim menamainya buttercup  berkeras menyatakan bahwa warna bulunya yang berwarna kuning lumpur mirip seperti warna bunga yang cerah  kucing itu membenciku  atau paling tidak dia tidak percaya padaku  meskipun sudah bertahun tahun berlalu  kurasa dia masih ingat bagaimana aku berusaha menenggelamkannya di dalam ember ketika prim membawa pulang  kucing kudisan  dengan perut penuh cacing dan digerogoti kutu  hal terakhir yang kubutuhkan adalah mahkluk lain yang harus kuberi makan  tapi prim memohon dengan amat sangat  bahkan sampai menangis  sehingga aku harus mengizinkan kucing itu tinggal  hasilnya ternyata lumayan  ibuku berhasil menyingkirkan kuman dari tubuhnya dan kucing itu pandai menangkap tikus  bahkan kadang kadang bisa menangkap tikus tikus besar  kadang kadang sehabis berburu  kuberikan isi perut binatang buruanku buttercup  dia sudah tidak lagi mendesis marah setiap kali melihatku  isi perut binatang  tidak ada desisan  inilah\n"
          ],
          "name": "stdout"
        }
      ]
    },
    {
      "cell_type": "markdown",
      "metadata": {
        "id": "3e5a8f42"
      },
      "source": [
        "## TOKENIZING"
      ],
      "id": "3e5a8f42"
    },
    {
      "cell_type": "code",
      "metadata": {
        "scrolled": false,
        "colab": {
          "base_uri": "https://localhost:8080/"
        },
        "id": "0d711455",
        "outputId": "c5f1e463-fc80-4bb1-eeb1-db4ba50599f0"
      },
      "source": [
        "Tokenizing = Kata.split()\n",
        "print(Tokenizing)"
      ],
      "id": "0d711455",
      "execution_count": 16,
      "outputs": [
        {
          "output_type": "stream",
          "text": [
            "['saat', 'aku', 'terbangun', 'bagian', 'ranjang', 'sebelahku', 'ternyata', 'dingin', 'jemariku', 'terulur', 'mencari', 'kehangatan', 'prim', 'tapi', 'hanya', 'menemukan', 'kain', 'kanvas', 'kasar', 'yang', 'menutupi', 'kasur', 'dia', 'pasti', 'mengalami', 'mimpi', 'buruk', 'dan', 'naik', 'ke', 'ranjang', 'ibu', 'kami', 'tentu', 'saja', 'dia', 'pasti', 'mimpi', 'buruk', 'hari', 'ini', 'hari', 'pemungutan', 'aku', 'bertumpu', 'pada', 'sikuku', 'ada', 'cukup', 'cahaya', 'di', 'kamar', 'tidur', 'sehingga', 'aku', 'bisa', 'melihat', 'mereka', 'adik', 'perempuanku', 'prim', 'bergelung', 'menyamping', 'menyelusup', 'menempel', 'pada', 'tubuh', 'ibuku', 'pipi', 'mereka', 'bersentuhan', 'dalam', 'tidurnya', 'ibuku', 'tampak', 'lebih', 'muda', 'masih', 'kelihatan', 'capek', 'tapi', 'tidak', 'tampak', 'kelelahan', 'setengah', 'mati', 'wajah', 'prim', 'sesegar', 'tetesan', 'hujan', 'semanis', 'bunga', 'primrose', 'seperti', 'namanya', 'ibuku', 'dulu', 'juga', 'sangat', 'cantik', 'begitulah', 'yang', 'mereka', 'ceritakan', 'duduk', 'di', 'lutut', 'prim', 'menjaganya', 'adalah', 'kucing', 'paling', 'jelek', 'di', 'dunia', 'hidungnya', 'pesek', 'setengah', 'dari', 'satu', 'telinganya', 'hilang', 'warna', 'matanya', 'seperti', 'ketela', 'busuk', 'prim', 'menamainya', 'buttercup', 'berkeras', 'menyatakan', 'bahwa', 'warna', 'bulunya', 'yang', 'berwarna', 'kuning', 'lumpur', 'mirip', 'seperti', 'warna', 'bunga', 'yang', 'cerah', 'kucing', 'itu', 'membenciku', 'atau', 'paling', 'tidak', 'dia', 'tidak', 'percaya', 'padaku', 'meskipun', 'sudah', 'bertahun', 'tahun', 'berlalu', 'kurasa', 'dia', 'masih', 'ingat', 'bagaimana', 'aku', 'berusaha', 'menenggelamkannya', 'di', 'dalam', 'ember', 'ketika', 'prim', 'membawa', 'pulang', 'kucing', 'kudisan', 'dengan', 'perut', 'penuh', 'cacing', 'dan', 'digerogoti', 'kutu', 'hal', 'terakhir', 'yang', 'kubutuhkan', 'adalah', 'mahkluk', 'lain', 'yang', 'harus', 'kuberi', 'makan', 'tapi', 'prim', 'memohon', 'dengan', 'amat', 'sangat', 'bahkan', 'sampai', 'menangis', 'sehingga', 'aku', 'harus', 'mengizinkan', 'kucing', 'itu', 'tinggal', 'hasilnya', 'ternyata', 'lumayan', 'ibuku', 'berhasil', 'menyingkirkan', 'kuman', 'dari', 'tubuhnya', 'dan', 'kucing', 'itu', 'pandai', 'menangkap', 'tikus', 'bahkan', 'kadang', 'kadang', 'bisa', 'menangkap', 'tikus', 'tikus', 'besar', 'kadang', 'kadang', 'sehabis', 'berburu', 'kuberikan', 'isi', 'perut', 'binatang', 'buruanku', 'buttercup', 'dia', 'sudah', 'tidak', 'lagi', 'mendesis', 'marah', 'setiap', 'kali', 'melihatku', 'isi', 'perut', 'binatang', 'tidak', 'ada', 'desisan', 'inilah']\n"
          ],
          "name": "stdout"
        }
      ]
    },
    {
      "cell_type": "markdown",
      "metadata": {
        "id": "bb95bc35"
      },
      "source": [
        "## STOPWORD REMOVING"
      ],
      "id": "bb95bc35"
    },
    {
      "cell_type": "code",
      "metadata": {
        "colab": {
          "base_uri": "https://localhost:8080/"
        },
        "id": "1c224461",
        "outputId": "b11cdf94-ea62-419c-a1f6-ce3fc9a57bc5"
      },
      "source": [
        "def removeStopword(remove_stop):\n",
        "    \n",
        "    Stopword_data = open('stopwords2.txt', 'r').read().split()\n",
        "    Kata_baru = []\n",
        "    content = []\n",
        "    filteredtext = [word for word in remove_stop if word not in Stopword_data]\n",
        "    content.append(\" \".join(filteredtext))\n",
        "    remove_stop = content\n",
        "    return remove_stop\n",
        "\n",
        "Kata_baru = removeStopword(Tokenizing)\n",
        "print (Kata_baru)"
      ],
      "id": "1c224461",
      "execution_count": 20,
      "outputs": [
        {
          "output_type": "stream",
          "text": [
            "['terbangun ranjang sebelahku dingin jemariku terulur mencari kehangatan prim menemukan kain kanvas kasar menutupi kasur mengalami mimpi buruk ranjang mimpi buruk pemungutan bertumpu sikuku cahaya kamar tidur adik perempuanku prim bergelung menyamping menyelusup menempel tubuh ibuku pipi bersentuhan tidurnya ibuku muda capek kelelahan mati wajah prim sesegar tetesan hujan semanis bunga primrose namanya ibuku cantik ceritakan duduk lutut prim menjaganya kucing jelek dunia hidungnya pesek telinganya hilang warna matanya ketela busuk prim menamainya buttercup berkeras warna bulunya berwarna kuning lumpur warna bunga cerah kucing membenciku percaya padaku bertahun kurasa berusaha menenggelamkannya ember prim membawa pulang kucing kudisan perut penuh cacing digerogoti kutu kubutuhkan mahkluk kuberi makan prim memohon menangis mengizinkan kucing tinggal hasilnya lumayan ibuku berhasil menyingkirkan kuman tubuhnya kucing pandai menangkap tikus kadang kadang menangkap tikus tikus kadang kadang sehabis berburu kuberikan isi perut binatang buruanku buttercup mendesis marah kali melihatku isi perut binatang desisan']\n"
          ],
          "name": "stdout"
        }
      ]
    },
    {
      "cell_type": "markdown",
      "metadata": {
        "id": "d5584eed"
      },
      "source": [
        "## HASIL"
      ],
      "id": "d5584eed"
    },
    {
      "cell_type": "code",
      "metadata": {
        "scrolled": false,
        "colab": {
          "base_uri": "https://localhost:8080/"
        },
        "id": "96a2dc33",
        "outputId": "748937de-a2b5-4f3d-b05d-3bd5b3aa1837"
      },
      "source": [
        "hasil_stem_in_idris = []\n",
        "\n",
        "Kata_baru = Kata_baru[0]\n",
        "\n",
        "string_spl = Kata_baru.split(' ')\n",
        "for a in string_spl:\n",
        "    hasil_stem_in_idris.append(stemming_idris_modif(a))\n",
        "    \n",
        "hasil_stem_in_idris"
      ],
      "id": "96a2dc33",
      "execution_count": 22,
      "outputs": [
        {
          "output_type": "execute_result",
          "data": {
            "text/plain": [
              "['bangun',\n",
              " 'ranjang',\n",
              " 'sebelahku (Kata Salah)',\n",
              " 'dingin',\n",
              " 'jemari',\n",
              " 'ulur',\n",
              " 'cari',\n",
              " 'hangat',\n",
              " 'prim (Kata Salah)',\n",
              " 'temu',\n",
              " 'kain',\n",
              " 'kanvas',\n",
              " 'kasar',\n",
              " 'tutup',\n",
              " 'kasur',\n",
              " 'alami',\n",
              " 'mimpi',\n",
              " 'buruk',\n",
              " 'ranjang',\n",
              " 'mimpi',\n",
              " 'buruk',\n",
              " 'mungut',\n",
              " 'tumpu',\n",
              " 'siku',\n",
              " 'cahaya',\n",
              " 'kamar',\n",
              " 'tidur',\n",
              " 'adik',\n",
              " 'perempuan',\n",
              " 'prim (Kata Salah)',\n",
              " 'gelung',\n",
              " 'samping',\n",
              " 'selusup',\n",
              " 'tempel',\n",
              " 'tubuh',\n",
              " 'ibu',\n",
              " 'pipi',\n",
              " 'sentuh',\n",
              " 'tidur',\n",
              " 'ibu',\n",
              " 'muda',\n",
              " 'capek',\n",
              " 'lelah',\n",
              " 'mati',\n",
              " 'wajah',\n",
              " 'prim (Kata Salah)',\n",
              " 'segar',\n",
              " 'tetes',\n",
              " 'hujan',\n",
              " 'manis',\n",
              " 'bunga',\n",
              " 'primrose (Kata Salah)',\n",
              " 'nama',\n",
              " 'ibu',\n",
              " 'cantik',\n",
              " 'cerita',\n",
              " 'duduk',\n",
              " 'lutut',\n",
              " 'prim (Kata Salah)',\n",
              " 'menjaganya (Kata Salah)',\n",
              " 'kucing',\n",
              " 'jelek',\n",
              " 'dunia',\n",
              " 'hidung',\n",
              " 'pesek',\n",
              " 'telinga',\n",
              " 'hilang',\n",
              " 'warna',\n",
              " 'mata',\n",
              " 'ketela',\n",
              " 'busuk',\n",
              " 'prim (Kata Salah)',\n",
              " 'menamainya (Kata Salah)',\n",
              " 'buttercup (Kata Salah)',\n",
              " 'keras',\n",
              " 'warna',\n",
              " 'bulu',\n",
              " 'warna',\n",
              " 'kuning',\n",
              " 'lumpur',\n",
              " 'warna',\n",
              " 'bunga',\n",
              " 'cerah',\n",
              " 'kucing',\n",
              " 'membenciku (Kata Salah)',\n",
              " 'percaya',\n",
              " 'pada',\n",
              " 'tahun',\n",
              " 'kurasa (Kata Salah)',\n",
              " 'usaha',\n",
              " 'menenggelamkannya (Kata Salah)',\n",
              " 'ember',\n",
              " 'prim (Kata Salah)',\n",
              " 'bawa',\n",
              " 'pulang',\n",
              " 'kucing',\n",
              " 'kudis',\n",
              " 'perut',\n",
              " 'penuh',\n",
              " 'cacing',\n",
              " 'gerogot',\n",
              " 'kutu',\n",
              " 'kubutuhkan (Kata Salah)',\n",
              " 'mahkluk (Kata Salah)',\n",
              " 'kuberi (Kata Salah)',\n",
              " 'makan',\n",
              " 'prim (Kata Salah)',\n",
              " 'mohon',\n",
              " 'tangis',\n",
              " 'izin',\n",
              " 'kucing',\n",
              " 'tinggal',\n",
              " 'hasil',\n",
              " 'lumayan',\n",
              " 'ibu',\n",
              " 'hasil',\n",
              " 'singkir',\n",
              " 'kuman',\n",
              " 'tubuh',\n",
              " 'kucing',\n",
              " 'pandai',\n",
              " 'tangkap',\n",
              " 'tikus',\n",
              " 'kadang',\n",
              " 'kadang',\n",
              " 'tangkap',\n",
              " 'tikus',\n",
              " 'tikus',\n",
              " 'kadang',\n",
              " 'kadang',\n",
              " 'habis',\n",
              " 'buru',\n",
              " 'kuberikan (Kata Salah)',\n",
              " 'isi',\n",
              " 'perut',\n",
              " 'binatang',\n",
              " 'buru',\n",
              " 'buttercup (Kata Salah)',\n",
              " 'desis',\n",
              " 'marah',\n",
              " 'kali',\n",
              " 'melihatku (Kata Salah)',\n",
              " 'isi',\n",
              " 'perut',\n",
              " 'binatang',\n",
              " 'desis']"
            ]
          },
          "metadata": {
            "tags": []
          },
          "execution_count": 22
        }
      ]
    },
    {
      "cell_type": "code",
      "metadata": {
        "colab": {
          "base_uri": "https://localhost:8080/"
        },
        "id": "pP8kW8OHwlpN",
        "outputId": "5608203f-dd18-44b3-86f5-b4fc0b195833"
      },
      "source": [
        "# hasil_stem_in_idris\n",
        "jumlah_kata = len(Kata_baru)\n",
        "jumlah_stem = len(hasil_stem_in_idris)\n",
        "kata_benar = sum('(Kata Salah)' not in x for x in hasil_stem_in_idris)\n",
        "kata_salah = sum('(Kata Salah)' in x for x in hasil_stem_in_idris)\n",
        "acc = round((kata_benar/jumlah_stem)*100, 3)\n",
        "\n",
        "print(\"jumlah total Kata \\t= \"+str(jumlah_kata))\n",
        "print(\"jumlah stemming Kata \\t= \"+str(jumlah_stem))\n",
        "print(\"jumlah Kata benar \\t= \"+str(kata_benar))\n",
        "print(\"jumlah Kata salah \\t= \"+str(kata_salah))\n",
        "print(\"Akurasi stemming \\t= {}%\".format(acc))"
      ],
      "id": "pP8kW8OHwlpN",
      "execution_count": 23,
      "outputs": [
        {
          "output_type": "stream",
          "text": [
            "jumlah total Kata \t= 1119\n",
            "jumlah stemming Kata \t= 146\n",
            "jumlah Kata benar \t= 125\n",
            "jumlah Kata salah \t= 21\n",
            "Akurasi stemming \t= 85.616%\n"
          ],
          "name": "stdout"
        }
      ]
    }
  ]
}